{
 "cells": [
  {
   "cell_type": "code",
   "execution_count": null,
   "metadata": {},
   "outputs": [],
   "source": [
    "import numpy as np\n",
    "import matplotlib.pyplot as plt\n",
    "from skimage.feature import canny\n",
    "import geopandas as gpd\n",
    "from scipy.signal import savgol_filter\n",
    "from datetime import datetime\n",
    "\n",
    "gdf = gpd.read_file(\"PASTIS/metadata.geojson\")"
   ]
  },
  {
   "cell_type": "code",
   "execution_count": null,
   "metadata": {},
   "outputs": [],
   "source": [
    "RGB_COLOR = [2,1,0]\n",
    "AGRI_COLOR = [6,8,2]\n",
    "EVI2_COLOR = [10]"
   ]
  },
  {
   "cell_type": "code",
   "execution_count": null,
   "metadata": {},
   "outputs": [],
   "source": [
    "def get_images_and_dates(iloc: int):\n",
    "\n",
    "    def dates_to_days(dates):\n",
    "        dates = [str(date) for date in dates]\n",
    "        date_objs = [datetime.strptime(date, '%Y%m%d') for date in dates]\n",
    "        days_diff = [(date - date_objs[0]).days for date in date_objs]\n",
    "        days_diff_array = np.array(days_diff)\n",
    "        \n",
    "        return days_diff_array\n",
    "    \n",
    "    sample_id = gdf.iloc[iloc].ID_PATCH\n",
    "    dates = dates_to_days(list(gdf.iloc[iloc][\"dates-S2\"].values()))\n",
    "\n",
    "    ts = np.load(f\"PASTIS/DATA_S2/S2_{sample_id}.npy\")\n",
    "    ts = np.moveaxis(ts, 1, -1)\n",
    "\n",
    "    ts = np.clip((ts / 10000)*np.pi, 0, 1)\n",
    "\n",
    "    # cloud removal\n",
    "    ts[ts[:, :, :, 0] > 0.5] = np.nan # blue band cut (for cloud detection)\n",
    "    ts[ts[:, :, :, 6] < 0.3] = np.nan # nir band cut (for cloud shadow)\n",
    "\n",
    "    keeped = np.isnan(ts).mean(axis=(1, 2, 3)) < 0.3\n",
    "    dates = dates[keeped]\n",
    "    ts = ts[keeped]\n",
    "\n",
    "    # first image cloud imputation\n",
    "    first_img_nan_mask = np.isnan(ts[0])\n",
    "    ts[0][first_img_nan_mask] = np.take(np.nanmean(ts[0], axis=(0, 1)), np.where(first_img_nan_mask)[-1])\n",
    "\n",
    "    # other images cloud imputation\n",
    "    for i in range(1, ts.shape[0]):\n",
    "        nan_mask = np.isnan(ts[i])\n",
    "        ts[i][nan_mask] = ts[i - 1][nan_mask]\n",
    "\n",
    "    # smoothing bands\n",
    "    ts = savgol_filter(ts, window_length=11, polyorder=3, axis=0)\n",
    "\n",
    "    # adding EVI2\n",
    "    NIR = ts[:, :, :, 6]\n",
    "    RED = ts[:, :, :, 2]\n",
    "    EVI2 = 2.5 * (NIR - RED) / (NIR + 2 * RED + 1)\n",
    "    ts = np.concatenate((ts, EVI2[:, :, :, np.newaxis]), axis=-1)\n",
    "\n",
    "    # keeping values between 0 and 1\n",
    "    ts = np.clip(ts, 0, 1)\n",
    "\n",
    "    return ts, dates"
   ]
  },
  {
   "cell_type": "code",
   "execution_count": null,
   "metadata": {},
   "outputs": [],
   "source": [
    "def plot_images_and_dates(ts, dates, color=EVI2_COLOR):\n",
    "    plots_per_row = min(8, np.ceil(ts.shape[0]/2).astype(int))\n",
    "    rows = np.ceil(ts.shape[0]/plots_per_row).astype(int)\n",
    "    fig, axs = plt.subplots(rows, plots_per_row, figsize=(plots_per_row*4, rows*3))\n",
    "\n",
    "    for row in range(rows):\n",
    "        for col in range(plots_per_row):\n",
    "            axs[row, col].set_xticks([])\n",
    "            axs[row, col].set_yticks([])\n",
    "\n",
    "            abs_index = row*plots_per_row + col\n",
    "\n",
    "            if abs_index < ts.shape[0]:\n",
    "                axs[row, col].imshow(ts[abs_index][:, :, color])\n",
    "                axs[row, col].set_title(f\"ts={dates[abs_index]}\")\n",
    "            else:\n",
    "                fig.delaxes(axs[row, col])"
   ]
  },
  {
   "cell_type": "code",
   "execution_count": null,
   "metadata": {},
   "outputs": [],
   "source": [
    "def plot_reference_segmentations(iloc: int):\n",
    "    sample_id = gdf.iloc[iloc].ID_PATCH\n",
    "\n",
    "    fig, ax = plt.subplots(figsize=(4, 3))\n",
    "    segmentation = np.load(f\"PASTIS/ANNOTATIONS/ParcelIDs_{sample_id}.npy\")\n",
    "    ax.imshow(canny(segmentation/np.max(segmentation),  sigma=1))\n",
    "    ax.set_xticks([])\n",
    "    ax.set_yticks([])"
   ]
  },
  {
   "cell_type": "code",
   "execution_count": null,
   "metadata": {},
   "outputs": [],
   "source": [
    "# 1500, 2000"
   ]
  },
  {
   "cell_type": "code",
   "execution_count": null,
   "metadata": {},
   "outputs": [],
   "source": [
    "iloc = 2000\n",
    "ts, dates = get_images_and_dates(iloc)\n",
    "plot_images_and_dates(ts, dates)"
   ]
  },
  {
   "cell_type": "code",
   "execution_count": null,
   "metadata": {},
   "outputs": [],
   "source": [
    "plot_reference_segmentations(iloc)"
   ]
  }
 ],
 "metadata": {
  "kernelspec": {
   "display_name": "venv",
   "language": "python",
   "name": "python3"
  },
  "language_info": {
   "codemirror_mode": {
    "name": "ipython",
    "version": 3
   },
   "file_extension": ".py",
   "mimetype": "text/x-python",
   "name": "python",
   "nbconvert_exporter": "python",
   "pygments_lexer": "ipython3",
   "version": "3.10.12"
  }
 },
 "nbformat": 4,
 "nbformat_minor": 2
}
